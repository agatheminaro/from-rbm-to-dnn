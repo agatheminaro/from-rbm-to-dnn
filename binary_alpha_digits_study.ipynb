{
 "cells": [
  {
   "cell_type": "markdown",
   "metadata": {},
   "source": [
    "# Binary Alpha Digits Study\n",
    "## Get the libraries"
   ]
  },
  {
   "cell_type": "code",
   "execution_count": null,
   "metadata": {},
   "outputs": [],
   "source": [
    "import scipy\n",
    "import numpy as np\n",
    "from principal_RBM_alpha import RBM\n",
    "from principal_DBN_alpha import DBN"
   ]
  },
  {
   "cell_type": "markdown",
   "metadata": {},
   "source": [
    "## Get the data"
   ]
  },
  {
   "cell_type": "code",
   "execution_count": null,
   "metadata": {},
   "outputs": [],
   "source": [
    "def lire_alpha_digit(indexes):\n",
    "    mat = scipy.io.loadmat(\"binaryalphadigs.mat\")\n",
    "    new_mat = mat['dat'][indexes]\n",
    "    new_mat = new_mat.reshape(new_mat.shape[0] * new_mat.shape[1])\n",
    "\n",
    "    new_new_mat = np.zeros((new_mat.shape[0], new_mat[0].shape[0] * new_mat[0].shape[1]))\n",
    "    for i in range(len(new_mat)):\n",
    "        new_new_mat[i] = new_mat[i].reshape(new_mat[i].shape[0] * new_mat[i].shape[1])\n",
    "        \n",
    "    return new_new_mat"
   ]
  },
  {
   "cell_type": "code",
   "execution_count": null,
   "metadata": {},
   "outputs": [],
   "source": [
    "LIST_IDX_DATA = [5, 12, 21]\n",
    "data = lire_alpha_digit(LIST_IDX_DATA)"
   ]
  },
  {
   "cell_type": "markdown",
   "metadata": {},
   "source": [
    "## Create RBM"
   ]
  },
  {
   "cell_type": "code",
   "execution_count": null,
   "metadata": {},
   "outputs": [],
   "source": [
    "p = 320\n",
    "q = 100\n",
    "EPSILON = 0.01\n",
    "BATCH_SIZE = 32\n",
    "NB_EPOCHS = 100"
   ]
  },
  {
   "cell_type": "code",
   "execution_count": null,
   "metadata": {},
   "outputs": [],
   "source": [
    "# Create the model\n",
    "rbm_model = RBM(p=p, q=q)\n",
    "\n",
    "# Train the model\n",
    "rbm_model.train_RBM(X=data, epsilon=EPSILON, batch_size=BATCH_SIZE, nb_epochs=NB_EPOCHS)\n",
    "\n",
    "# Generate images\n",
    "rbm_model.generer_image_RBM(nb_data=10, nb_gibbs=100)"
   ]
  },
  {
   "cell_type": "markdown",
   "metadata": {},
   "source": [
    "## Create DBN"
   ]
  },
  {
   "cell_type": "code",
   "execution_count": null,
   "metadata": {},
   "outputs": [],
   "source": [
    "CONFIG = [320, 100, 50, 100]\n",
    "EPSILON = 0.01\n",
    "BATCH_SIZE = 32\n",
    "NB_EPOCHS = 100"
   ]
  },
  {
   "cell_type": "code",
   "execution_count": null,
   "metadata": {},
   "outputs": [],
   "source": [
    "# Create the model\n",
    "dbn_model = DBN(config=CONFIG)\n",
    "\n",
    "# Train the model\n",
    "dbn_model.train_DBN(X=data, epsilon=EPSILON, batch_size=BATCH_SIZE, nb_epochs=NB_EPOCHS)\n",
    "\n",
    "# Generate images\n",
    "dbn_model.generer_image_DBN(nb_data=10, nb_gibbs=100)"
   ]
  }
 ],
 "metadata": {
  "kernelspec": {
   "display_name": "Python 3.9.12",
   "language": "python",
   "name": "python3"
  },
  "language_info": {
   "name": "python",
   "version": "3.9.12"
  },
  "orig_nbformat": 4,
  "vscode": {
   "interpreter": {
    "hash": "40d3a090f54c6569ab1632332b64b2c03c39dcf918b08424e98f38b5ae0af88f"
   }
  }
 },
 "nbformat": 4,
 "nbformat_minor": 2
}
