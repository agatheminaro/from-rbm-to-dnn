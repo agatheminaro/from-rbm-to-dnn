{
 "cells": [
  {
   "cell_type": "markdown",
   "metadata": {},
   "source": [
    "# Comparison of generated images between the models"
   ]
  },
  {
   "cell_type": "markdown",
   "metadata": {},
   "source": [
    "## Import libraries"
   ]
  },
  {
   "cell_type": "code",
   "execution_count": 1,
   "metadata": {},
   "outputs": [],
   "source": [
    "import matplotlib.pyplot as plt\n",
    "import torch\n",
    "\n",
    "from principal_RBM_alpha import RBM\n",
    "from principal_DBN_alpha import DBN\n",
    "from principal_VAE_MNIST import VAE, train_vae, generate_images, display_images\n",
    "from download_data import mnist_data\n",
    "from utils import show_mnist_digits, subsample_data_set, create_dataloader"
   ]
  },
  {
   "cell_type": "markdown",
   "metadata": {},
   "source": [
    "## Get Data"
   ]
  },
  {
   "cell_type": "code",
   "execution_count": 2,
   "metadata": {},
   "outputs": [],
   "source": [
    "X_train, X_test, y_train, y_test = mnist_data(path=\"data/\")\n",
    "X_train, y_train = subsample_data_set(X_train, y_train, nb_data=10000)"
   ]
  },
  {
   "cell_type": "code",
   "execution_count": 3,
   "metadata": {},
   "outputs": [
    {
     "data": {
      "image/png": "[encoded data removed]",
      "text/plain": [
       "<Figure size 800x500 with 8 Axes>"
      ]
     },
     "metadata": {},
     "output_type": "display_data"
    }
   ],
   "source": [
    "show_mnist_digits(X_train, y_train, 2, 4)"
   ]
  },
  {
   "cell_type": "markdown",
   "metadata": {},
   "source": [
    "## Train the model and Generate Images"
   ]
  },
  {
   "cell_type": "code",
   "execution_count": 4,
   "metadata": {},
   "outputs": [],
   "source": [
    "p = 784 #number of visible neurones\n",
    "q = 316 #number of hidden neurones\n",
    "EPSILON = 0.1 #learning rate\n",
    "BATCH_SIZE = 32 #size of the mini-batch\n",
    "NB_EPOCHS = 100 #number of iterations for gradient descents\n",
    "NB_GIBBS = 1000 #number of Gibbs sampling steps\n",
    "NB_DATA = 10 #number of data to generate"
   ]
  },
  {
   "cell_type": "markdown",
   "metadata": {},
   "source": [
    "### RBM"
   ]
  },
  {
   "cell_type": "code",
   "execution_count": 5,
   "metadata": {},
   "outputs": [
    {
     "name": "stdout",
     "output_type": "stream",
     "text": [
      "  Epoch 0/100 : RMSE = 19.849208085637365\n"
     ]
    }
   ],
   "source": [
    "# Create the model\n",
    "rbm_model = RBM(p=p, q=q) # size of the model = 784*316 = 247_744\n",
    "\n",
    "# Train the model\n",
    "rbm_model, loss = rbm_model.train_RBM(X=X_train, epsilon=EPSILON, batch_size=BATCH_SIZE, nb_epochs=NB_EPOCHS, verbose=True)\n",
    "\n",
    "plt.plot(loss)\n",
    "plt.title(\"Evolution of the loss\")\n",
    "plt.xlabel(\"Epoch\")\n",
    "plt.ylabel(\"Loss\")\n",
    "plt.show()"
   ]
  },
  {
   "cell_type": "code",
   "execution_count": null,
   "metadata": {},
   "outputs": [
    {
     "data": {
      "image/png": "[encoded data removed]",
      "text/plain": [
       "<Figure size 640x480 with 10 Axes>"
      ]
     },
     "metadata": {},
     "output_type": "display_data"
    }
   ],
   "source": [
    "rbm_model.generer_image_RBM(nb_data=NB_DATA, nb_gibbs=NB_GIBBS, type_data=\"mnist_digits\")"
   ]
  },
  {
   "cell_type": "markdown",
   "metadata": {},
   "source": [
    "### DBN"
   ]
  },
  {
   "cell_type": "code",
   "execution_count": null,
   "metadata": {},
   "outputs": [],
   "source": [
    "CONFIG = [784, 250, 150, 100]\n",
    "# Create the model\n",
    "dbn_model = DBN(config=CONFIG) # size of the model = 784*250 + 250*150 + 150*100 = 248_500\n",
    "\n",
    "# Train the model\n",
    "dbn_model, loss = dbn_model.train_DBN(X=X_train, epsilon=EPSILON, batch_size=BATCH_SIZE, nb_epochs=NB_EPOCHS, verbose=True)\n",
    "\n",
    "plt.plot(loss)\n",
    "plt.title(\"Evolution of the loss\")\n",
    "plt.xlabel(\"Epoch\")\n",
    "plt.ylabel(\"Loss\")\n",
    "plt.show()"
   ]
  },
  {
   "cell_type": "code",
   "execution_count": null,
   "metadata": {},
   "outputs": [],
   "source": [
    "dbn_model.generer_image_DBN(nb_data=NB_DATA, nb_gibbs=NB_GIBBS, type_data=\"mnist_digits\")"
   ]
  },
  {
   "cell_type": "markdown",
   "metadata": {},
   "source": [
    "### VAE"
   ]
  },
  {
   "cell_type": "code",
   "execution_count": null,
   "metadata": {},
   "outputs": [],
   "source": [
    "x_dim = 784\n",
    "h_dim1 = 140\n",
    "h_dim2 = 64\n",
    "z_dim = 10\n",
    "n_rows = X_train.shape[1]\n",
    "n_cols = X_train.shape[2]\n",
    "n_channels = 1"
   ]
  },
  {
   "cell_type": "code",
   "execution_count": null,
   "metadata": {},
   "outputs": [],
   "source": [
    "X_loader = create_dataloader(X_train, batch_size=BATCH_SIZE)"
   ]
  },
  {
   "cell_type": "code",
   "execution_count": null,
   "metadata": {},
   "outputs": [],
   "source": [
    "vae_model = VAE(\n",
    "    x_dim=x_dim,\n",
    "    h_dim1=h_dim1,\n",
    "    h_dim2=h_dim2,\n",
    "    z_dim=z_dim,\n",
    "    n_rows=n_rows,\n",
    "    n_cols=n_cols,\n",
    "    n_channels=n_channels\n",
    "    ) # size of the model = 784*140 + 140*64 + 64*10*10 + 10*64 + 64*140 + 140*784 = 244_480\n",
    "\n",
    "optimizer = torch.optim.Adam(vae_model.parameters(), lr=EPSILON)\n",
    "\n",
    "for epoch in range(NB_EPOCHS):\n",
    "    train_vae(vae_model, optimizer, X_loader, epoch, verbose=True)"
   ]
  },
  {
   "cell_type": "code",
   "execution_count": null,
   "metadata": {},
   "outputs": [],
   "source": [
    "imgs = generate_images(vae_model, n_samples=NB_DATA)\n",
    "display_images(imgs)"
   ]
  },
  {
   "cell_type": "code",
   "execution_count": null,
   "metadata": {},
   "outputs": [],
   "source": []
  }
 ],
 "metadata": {
  "kernelspec": {
   "display_name": "Python 3.10.9",
   "language": "python",
   "name": "python3"
  },
  "language_info": {
   "codemirror_mode": {
    "name": "ipython",
    "version": 3
   },
   "file_extension": ".py",
   "mimetype": "text/x-python",
   "name": "python",
   "nbconvert_exporter": "python",
   "pygments_lexer": "ipython3",
   "version": "3.10.9"
  },
  "orig_nbformat": 4,
  "vscode": {
   "interpreter": {
    "hash": "0aae2efc6f5aac203313ecb05c4342cd945998222521bffc455f9873278265cf"
   }
  }
 },
 "nbformat": 4,
 "nbformat_minor": 2
}
