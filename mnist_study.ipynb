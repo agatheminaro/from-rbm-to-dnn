{
 "cells": [
  {
   "cell_type": "markdown",
   "metadata": {},
   "source": [
    "# MNIST Study\n",
    "## Get the libraries"
   ]
  },
  {
   "cell_type": "code",
   "execution_count": null,
   "metadata": {},
   "outputs": [],
   "source": [
    "from principal_DNN_MNIST import DNN\n",
    "from mlxtend.data import loadlocal_mnist"
   ]
  },
  {
   "cell_type": "markdown",
   "metadata": {},
   "source": [
    "## Get the data and preprocess it"
   ]
  },
  {
   "cell_type": "code",
   "execution_count": 1,
   "metadata": {},
   "outputs": [],
   "source": [
    "X_train, y_train = loadlocal_mnist(images_path='data/train-images.idx3-ubyte',\n",
    "                         labels_path='data/train-labels.idx1-ubyte')\n",
    "X_test, y_test = loadlocal_mnist(images_path='data/t10k-images.idx3-ubyte',\n",
    "                         labels_path='data/t10k-labels.idx1-ubyte')\n",
    "\n",
    "# Binarisation of our data\n",
    "X_train = (X_train >= 127).astype(int)\n",
    "X_test = (X_test >= 127).astype(int)"
   ]
  },
  {
   "cell_type": "markdown",
   "metadata": {},
   "source": [
    "## Creation of the DNN"
   ]
  },
  {
   "cell_type": "code",
   "execution_count": null,
   "metadata": {},
   "outputs": [],
   "source": [
    "CONFIG = [784, 100, 50, 10]\n",
    "BATCH_SIZE = 32\n",
    "EPSILON = 0.1\n",
    "NB_EPOCHS_RBM = 100\n",
    "NB_EPOCHS_DNN = 200"
   ]
  },
  {
   "cell_type": "code",
   "execution_count": null,
   "metadata": {},
   "outputs": [],
   "source": [
    "# Create the model\n",
    "dnn = DNN(config=[784, 100, 50, 10])\n",
    "\n",
    "# Pretrain the model\n",
    "dnn.pretrain_DNN(X_train, epsilon=EPSILON, batch_size=BATCH_SIZE, nb_epochs=NB_EPOCHS_RBM)\n",
    "\n",
    "# Train the model\n",
    "loss = dnn.retropropagation(X_train, y_train, epsilon=EPSILON, batch_size=BATCH_SIZE, nb_epochs=NB_EPOCHS_DNN)\n",
    "\n",
    "# Test the model\n",
    "dnn.test_dnn(X_test, y_test)"
   ]
  },
  {
   "cell_type": "markdown",
   "metadata": {},
   "source": [
    "## Analysis"
   ]
  },
  {
   "cell_type": "markdown",
   "metadata": {},
   "source": []
  }
 ],
 "metadata": {
  "kernelspec": {
   "display_name": "Python 3.10.9",
   "language": "python",
   "name": "python3"
  },
  "language_info": {
   "codemirror_mode": {
    "name": "ipython",
    "version": 3
   },
   "file_extension": ".py",
   "mimetype": "text/x-python",
   "name": "python",
   "nbconvert_exporter": "python",
   "pygments_lexer": "ipython3",
   "version": "3.10.9"
  },
  "orig_nbformat": 4,
  "vscode": {
   "interpreter": {
    "hash": "5893de6937453a795d45c7d611a94fe5dba0c9db6e4355aad1e96f1b384ec7f2"
   }
  }
 },
 "nbformat": 4,
 "nbformat_minor": 2
}
