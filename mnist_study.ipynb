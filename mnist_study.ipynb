{
 "cells": [
  {
   "cell_type": "markdown",
   "metadata": {},
   "source": [
    "# MNIST Study\n",
    "## Get the libraries"
   ]
  },
  {
   "cell_type": "code",
   "execution_count": 1,
   "metadata": {},
   "outputs": [],
   "source": [
    "from principal_DNN_MNIST import DNN\n",
    "from download_data import mnist_data\n",
    "import matplotlib.pyplot as plt\n",
    "from utils import subsample_data_set"
   ]
  },
  {
   "cell_type": "markdown",
   "metadata": {},
   "source": [
    "## Get the data and preprocess it"
   ]
  },
  {
   "cell_type": "code",
   "execution_count": 2,
   "metadata": {},
   "outputs": [],
   "source": [
    "X_train, X_test, y_train, y_test = mnist_data(path=\"data/\")"
   ]
  },
  {
   "cell_type": "markdown",
   "metadata": {},
   "source": [
    "## Creation of the DNN"
   ]
  },
  {
   "cell_type": "code",
   "execution_count": 3,
   "metadata": {},
   "outputs": [],
   "source": [
    "CONFIG = [784, 100, 10]\n",
    "BATCH_SIZE = 32\n",
    "EPSILON = 0.1\n",
    "NB_EPOCHS_RBM = 100\n",
    "NB_EPOCHS_DNN = 200\n",
    "NB_DATA_TRAINING = None"
   ]
  },
  {
   "cell_type": "code",
   "execution_count": 4,
   "metadata": {},
   "outputs": [
    {
     "name": "stdout",
     "output_type": "stream",
     "text": [
      "Training DBN with 2 RBM(s)\n",
      "Training RBM 1 / 2\n",
      "  Epoch 60/100 : RMSE = 15.543095188516343\r"
     ]
    }
   ],
   "source": [
    "# Create the model\n",
    "dnn = DNN(config=CONFIG)\n",
    "\n",
    "dnn, losses = dnn.pretrain_DNN(X_train, epsilon=EPSILON, batch_size=BATCH_SIZE, nb_epochs=NB_EPOCHS_RBM, verbose=True)\n",
    "\n",
    "dnn, loss = dnn.retropropagation(X_train, y_train, epsilon=EPSILON, batch_size=BATCH_SIZE, nb_epochs=NB_EPOCHS_DNN, verbose=True)\n",
    "\n",
    "final_error = dnn.test_dnn(X_test, y_test)"
   ]
  },
  {
   "cell_type": "markdown",
   "metadata": {},
   "source": [
    "## Analysis"
   ]
  },
  {
   "cell_type": "markdown",
   "metadata": {},
   "source": [
    "### Error rates"
   ]
  },
  {
   "cell_type": "code",
   "execution_count": null,
   "metadata": {},
   "outputs": [],
   "source": [
    "dnn_pretraining = DNN(config=CONFIG)\n",
    "dnn_pretraining, losses = dnn_pretraining.pretrain_DNN(X_train, epsilon=EPSILON, batch_size=BATCH_SIZE, nb_epochs=NB_EPOCHS_RBM)\n",
    "dnn_pretraining, loss = dnn_pretraining.retropropagation(X_train, y_train, epsilon=EPSILON, batch_size=BATCH_SIZE, nb_epochs=NB_EPOCHS_DNN)\n",
    "\n",
    "dnn_no_pretraining = DNN(config=CONFIG)\n",
    "dnn_no_pretraining, loss = dnn_no_pretraining.retropropagation(X_train, y_train, epsilon=EPSILON, batch_size=BATCH_SIZE, nb_epochs=NB_EPOCHS_DNN)\n",
    "\n",
    "error_rate_pretraining_train = dnn_pretraining.test_dnn(X_train, y_train, verbose=False)\n",
    "error_rate_pretraining_test = dnn_pretraining.test_dnn(X_test, y_test, verbose=False)\n",
    "\n",
    "error_rate_no_pretraining_train = dnn_no_pretraining.test_dnn(X_train, y_train, verbose=False)\n",
    "error_rate_no_pretraining_test = dnn_no_pretraining.test_dnn(X_test, y_test, verbose=False)\n",
    "\n",
    "print(\"Pretraining model:\")\n",
    "print(\"Error rate for training set: \", error_rate_pretraining_train)\n",
    "print(\"Error rate for test set: \", error_rate_pretraining_test)\n",
    "\n",
    "print(\"No pretraining model:\")\n",
    "print(\"Error rate for training set: \", error_rate_no_pretraining_train)\n",
    "print(\"Error rate for test set: \", error_rate_no_pretraining_test)"
   ]
  },
  {
   "cell_type": "markdown",
   "metadata": {},
   "source": [
    "### Number of layers"
   ]
  },
  {
   "cell_type": "code",
   "execution_count": null,
   "metadata": {},
   "outputs": [],
   "source": [
    "configurations = [\n",
    "    [784, 10],\n",
    "    [784, 200, 10],\n",
    "    [784, 200, 200, 10],\n",
    "    [784, 200, 200, 200, 10],\n",
    "    [784, 200, 200, 200, 200, 10],\n",
    "    [784, 200, 200, 200, 200, 200, 10],\n",
    "]\n",
    "error_rate_no_pretraining = []\n",
    "error_rate_pretraining = []\n",
    "for config in configurations:\n",
    "    dnn_pretraining = DNN(config=config)\n",
    "    dnn_pretraining, losses = dnn_pretraining.pretrain_DNN(X_train, epsilon=EPSILON, batch_size=BATCH_SIZE, nb_epochs=NB_EPOCHS_RBM)\n",
    "    dnn_pretraining, loss = dnn_pretraining.retropropagation(X_train, y_train, epsilon=EPSILON, batch_size=BATCH_SIZE, nb_epochs=NB_EPOCHS_DNN)\n",
    "    error_rate_pretraining.append(dnn_pretraining.test_dnn(X_test, y_test, verbose=False))\n",
    "\n",
    "    dnn_no_pretraining = DNN(config=config)\n",
    "    dnn_no_pretraining, loss = dnn_no_pretraining.retropropagation(X_train, y_train, epsilon=EPSILON, batch_size=BATCH_SIZE, nb_epochs=NB_EPOCHS_DNN)\n",
    "    error_rate_no_pretraining.append(dnn_no_pretraining.test_dnn(X_test, y_test, verbose=False))\n",
    "\n",
    "plt.figure(figsize=(5, 3))\n",
    "plt.plot(error_rate_no_pretraining, [2, 3, 4, 5, 6, 7], label='No pretraining')\n",
    "plt.plot(error_rate_pretraining, [2, 3, 4, 5, 6, 7], label='Pretraining')\n",
    "plt.title(\"Evolution of the error rate for different number of layers\")\n",
    "plt.xlabel('Number of layers')\n",
    "plt.ylabel(\"Error rate\")\n",
    "plt.show()"
   ]
  },
  {
   "cell_type": "markdown",
   "metadata": {},
   "source": [
    "### Number of neurons"
   ]
  },
  {
   "cell_type": "code",
   "execution_count": null,
   "metadata": {},
   "outputs": [],
   "source": [
    "configurations = [\n",
    "    [784, 100, 100, 10],\n",
    "    [784, 200, 200, 10],\n",
    "    [784, 300, 300, 10],\n",
    "    [784, 500, 500, 10],\n",
    "    [784, 700, 700, 10]\n",
    "]\n",
    "error_rate_no_pretraining = []\n",
    "error_rate_pretraining = []\n",
    "for config in configurations:\n",
    "    dnn_pretraining = DNN(config=config)\n",
    "    dnn_pretraining, losses = dnn_pretraining.pretrain_DNN(X_train, epsilon=EPSILON, batch_size=BATCH_SIZE, nb_epochs=NB_EPOCHS_RBM)\n",
    "    dnn_pretraining, loss = dnn_pretraining.retropropagation(X_train, y_train, epsilon=EPSILON, batch_size=BATCH_SIZE, nb_epochs=NB_EPOCHS_DNN)\n",
    "    error_rate_pretraining.append(dnn_pretraining.test_dnn(X_test, y_test, verbose=False))\n",
    "\n",
    "    dnn_no_pretraining = DNN(config=config)\n",
    "    dnn_no_pretraining, loss = dnn_no_pretraining.retropropagation(X_train, y_train, epsilon=EPSILON, batch_size=BATCH_SIZE, nb_epochs=NB_EPOCHS_DNN)\n",
    "    error_rate_no_pretraining.append(dnn_no_pretraining.test_dnn(X_test, y_test, verbose=False))\n",
    "\n",
    "plt.figure(figsize=(5, 3))\n",
    "plt.plot(error_rate_no_pretraining, [100, 200, 300, 500, 700], label='No pretraining')\n",
    "plt.plot(error_rate_pretraining, [100, 200, 300, 500, 700], label='Pretraining')\n",
    "plt.title(\"Evolution of the error rate for different number of neurons\")\n",
    "plt.xlabel('Number of neuros')\n",
    "plt.ylabel(\"Error rate\")\n",
    "plt.show()"
   ]
  },
  {
   "cell_type": "markdown",
   "metadata": {},
   "source": [
    "### Number of training data"
   ]
  },
  {
   "cell_type": "code",
   "execution_count": null,
   "metadata": {},
   "outputs": [],
   "source": [
    "nb_data = [1000, 3000, 7000, 10000 30000, 60000]\n",
    "CONFIG = [784, 200, 200, 10]\n",
    "error_rate_no_pretraining = []\n",
    "error_rate_pretraining = []\n",
    "for nb in nb_data:\n",
    "    X_train_sub, y_train_sub = subsample_data_set(X_train, y_train, nb)\n",
    "    dnn_pretraining = DNN(config=CONFIG)\n",
    "    dnn_pretraining, losses = dnn_pretraining.pretrain_DNN(X_train_sub, epsilon=EPSILON, batch_size=BATCH_SIZE, nb_epochs=NB_EPOCHS_RBM)\n",
    "    dnn_pretraining, loss = dnn_pretraining.retropropagation(X_train_sub, y_train_sub, epsilon=EPSILON, batch_size=BATCH_SIZE, nb_epochs=NB_EPOCHS_DNN)\n",
    "    error_rate_pretraining.append(dnn_pretraining.test_dnn(X_test, y_test, verbose=False))\n",
    "\n",
    "    dnn_no_pretraining = DNN(config=CONFIG)\n",
    "    dnn_no_pretraining, loss = dnn_no_pretraining.retropropagation(X_train_sub, y_train_sub, epsilon=EPSILON, batch_size=BATCH_SIZE, nb_epochs=NB_EPOCHS_DNN)\n",
    "    error_rate_no_pretraining.append(dnn_no_pretraining.test_dnn(X_test, y_test, verbose=False))\n",
    "\n",
    "plt.figure(figsize=(5, 3))\n",
    "plt.plot(error_rate_no_pretraining, nb_data, label='No pretraining')\n",
    "plt.plot(error_rate_pretraining, nb_data, label='Pretraining')\n",
    "plt.title(\"Evolution of the error rate for different len of training set\")\n",
    "plt.xlabel('Len of training set')\n",
    "plt.ylabel(\"Error rate\")\n",
    "plt.show()"
   ]
  },
  {
   "cell_type": "markdown",
   "metadata": {},
   "source": [
    "### Conclusion"
   ]
  },
  {
   "cell_type": "code",
   "execution_count": null,
   "metadata": {},
   "outputs": [],
   "source": [
    "# Best parameters\n",
    "CONFIG = [784, 100, 10]\n",
    "BATCH_SIZE = 32\n",
    "EPSILON = 0.1\n",
    "NB_EPOCHS_RBM = 100\n",
    "NB_EPOCHS_DNN = 200\n",
    "NB_DATA_TRAINING = None\n",
    "\n",
    "X_train_sub, y_train_sub = subsample_data_set(X_train, y_train, NB_DATA_TRAINING)\n",
    "dnn = DNN(config=CONFIG)\n",
    "dnn, losses = dnn.pretrain_DNN(X_train, epsilon=EPSILON, batch_size=BATCH_SIZE, nb_epochs=NB_EPOCHS_RBM, verbose=True)\n",
    "dnn, loss = dnn.retropropagation(X_train, y_train, epsilon=EPSILON, batch_size=BATCH_SIZE, nb_epochs=NB_EPOCHS_DNN, verbose=True)\n",
    "error_rate = dnn.test_dnn(X_test, y_test, verbose=True)"
   ]
  },
  {
   "cell_type": "markdown",
   "metadata": {},
   "source": []
  }
 ],
 "metadata": {
  "kernelspec": {
   "display_name": "Python 3.10.9",
   "language": "python",
   "name": "python3"
  },
  "language_info": {
   "codemirror_mode": {
    "name": "ipython",
    "version": 3
   },
   "file_extension": ".py",
   "mimetype": "text/x-python",
   "name": "python",
   "nbconvert_exporter": "python",
   "pygments_lexer": "ipython3",
   "version": "3.10.9"
  },
  "orig_nbformat": 4,
  "vscode": {
   "interpreter": {
    "hash": "5893de6937453a795d45c7d611a94fe5dba0c9db6e4355aad1e96f1b384ec7f2"
   }
  }
 },
 "nbformat": 4,
 "nbformat_minor": 2
}
