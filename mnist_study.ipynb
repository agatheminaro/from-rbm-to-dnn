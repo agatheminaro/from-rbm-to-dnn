{
 "cells": [
  {
   "cell_type": "markdown",
   "metadata": {},
   "source": [
    "# MNIST Study\n",
    "## Get the libraries"
   ]
  },
  {
   "cell_type": "code",
   "execution_count": 1,
   "metadata": {},
   "outputs": [],
   "source": [
    "from principal_DNN_MNIST import DNN\n",
    "from download_data import mnist_data\n",
    "import matplotlib.pyplot as plt\n",
    "from utils import subsample_data_set"
   ]
  },
  {
   "cell_type": "markdown",
   "metadata": {},
   "source": [
    "## Get the data and preprocess it"
   ]
  },
  {
   "cell_type": "code",
   "execution_count": 2,
   "metadata": {},
   "outputs": [],
   "source": [
    "X_train, X_test, y_train, y_test = mnist_data(path=\"data/\")"
   ]
  },
  {
   "cell_type": "markdown",
   "metadata": {},
   "source": [
    "## Creation of the DNN"
   ]
  },
  {
   "cell_type": "code",
   "execution_count": 3,
   "metadata": {},
   "outputs": [],
   "source": [
    "CONFIG = [784, 200, 200, 10]\n",
    "BATCH_SIZE = 512\n",
    "EPSILON = 0.1\n",
    "NB_EPOCHS_RBM = 100\n",
    "NB_EPOCHS_DNN = 200\n",
    "NB_DATA_TRAINING = None"
   ]
  },
  {
   "cell_type": "code",
   "execution_count": 4,
   "metadata": {},
   "outputs": [
    {
     "name": "stdout",
     "output_type": "stream",
     "text": [
      "Training DBN with 3 RBM(s)\n",
      "Training RBM 1 / 3\n",
      "  Epoch 0/100 : RMSE = 28.24920301522608\n",
      "  Epoch 20/100 : RMSE = 15.277116733949727\n",
      "  Epoch 40/100 : RMSE = 12.86608608011797\n",
      "  Epoch 60/100 : RMSE = 11.770847760486163\n",
      "  Epoch 80/100 : RMSE = 11.135785008048753\n",
      "Training RBM 2 / 3\n",
      "  Epoch 0/100 : RMSE = 13.621833979768432\n",
      "  Epoch 20/100 : RMSE = 7.03812186478434\n",
      "  Epoch 40/100 : RMSE = 6.009224869100796\n",
      "  Epoch 60/100 : RMSE = 5.40694166961455\n",
      "  Epoch 80/100 : RMSE = 4.98654478604421\n",
      "Training RBM 3 / 3\n",
      "  Epoch 0/100 : RMSE = 17.013876851432574\n",
      "  Epoch 20/100 : RMSE = 11.511555382088169\n",
      "  Epoch 40/100 : RMSE = 11.170859813771775\n",
      "  Epoch 60/100 : RMSE = 11.107008905462266\n",
      "  Epoch 80/100 : RMSE = 11.097287511099132\n",
      "Training DNN\n",
      "    Epoch 0/200: loss is 11.902355003435513\n",
      "    Epoch 25/200: loss is 0.3519129407173546\n",
      "    Epoch 50/200: loss is 0.25202851996030146\n",
      "    Epoch 75/200: loss is 0.205366038908104\n",
      "    Epoch 100/200: loss is 0.17579236277188734\n",
      "    Epoch 125/200: loss is 0.15426056277178693\n",
      "    Epoch 150/200: loss is 0.13757899482929448\n",
      "    Epoch 175/200: loss is 0.12416120319512491\n",
      "Error rate:  4.620000000000002\n"
     ]
    }
   ],
   "source": [
    "# Create the model\n",
    "dnn = DNN(config=CONFIG)\n",
    "\n",
    "dnn, losses = dnn.pretrain_DNN(X_train, epsilon=EPSILON, batch_size=BATCH_SIZE, nb_epochs=NB_EPOCHS_RBM, verbose=True)\n",
    "\n",
    "dnn, loss = dnn.retropropagation(X_train, y_train, epsilon=EPSILON, batch_size=BATCH_SIZE, nb_epochs=NB_EPOCHS_DNN, verbose=True)\n",
    "\n",
    "final_error = dnn.test_dnn(X_test, y_test)"
   ]
  },
  {
   "cell_type": "markdown",
   "metadata": {},
   "source": [
    "## Analysis"
   ]
  },
  {
   "cell_type": "markdown",
   "metadata": {},
   "source": [
    "### Error rates"
   ]
  },
  {
   "cell_type": "code",
   "execution_count": 5,
   "metadata": {},
   "outputs": [
    {
     "name": "stdout",
     "output_type": "stream",
     "text": [
      "-- Pretraining model --\n",
      "Training DBN with 3 RBM(s)\n",
      "Training RBM 1 / 3\n",
      "  Epoch 0/100 : RMSE = 27.829512553215064\n",
      "  Epoch 20/100 : RMSE = 15.081080232379007\n",
      "  Epoch 40/100 : RMSE = 12.690977866888186\n",
      "  Epoch 60/100 : RMSE = 11.563651838942057\n",
      "  Epoch 80/100 : RMSE = 10.926058739619538\n",
      "Training RBM 2 / 3\n",
      "  Epoch 0/100 : RMSE = 14.110874164486678\n",
      "  Epoch 20/100 : RMSE = 7.450285556864107\n",
      "  Epoch 40/100 : RMSE = 6.366607520884319\n",
      "  Epoch 60/100 : RMSE = 5.712228549455895\n",
      "  Epoch 80/100 : RMSE = 5.271321122227319\n",
      "Training RBM 3 / 3\n",
      "  Epoch 0/100 : RMSE = 16.455057611970602\n",
      "  Epoch 20/100 : RMSE = 11.365391459446332\n",
      "  Epoch 40/100 : RMSE = 11.044598981319307\n",
      "  Epoch 60/100 : RMSE = 10.565134888184616\n",
      "  Epoch 80/100 : RMSE = 10.482857863072985\n",
      "Training DNN\n",
      "    Epoch 0/200: loss is 9.317631394178628\n",
      "    Epoch 25/200: loss is 0.3523735306585467\n",
      "    Epoch 50/200: loss is 0.2506201013041753\n",
      "    Epoch 75/200: loss is 0.20477061807652824\n",
      "    Epoch 100/200: loss is 0.1766965835837477\n",
      "    Epoch 125/200: loss is 0.15662629827380606\n",
      "    Epoch 150/200: loss is 0.14101295752189008\n",
      "    Epoch 175/200: loss is 0.12821159323092385\n",
      "-- No pretraining model --\n",
      "Training DNN\n",
      "    Epoch 0/200: loss is 1.4859575210936251\n",
      "    Epoch 25/200: loss is 0.26324597757100765\n",
      "    Epoch 50/200: loss is 0.19725528114788157\n",
      "    Epoch 75/200: loss is 0.15947089024742409\n",
      "    Epoch 100/200: loss is 0.1333531612145214\n",
      "    Epoch 125/200: loss is 0.11371022941783614\n",
      "    Epoch 150/200: loss is 0.0981833096392231\n",
      "    Epoch 175/200: loss is 0.08549703045436671\n"
     ]
    }
   ],
   "source": [
    "print(\"-- Pretraining model --\")\n",
    "dnn_pretraining = DNN(config=CONFIG)\n",
    "dnn_pretraining, losses = dnn_pretraining.pretrain_DNN(X_train, epsilon=EPSILON, batch_size=BATCH_SIZE, nb_epochs=NB_EPOCHS_RBM, verbose=True)\n",
    "dnn_pretraining, loss = dnn_pretraining.retropropagation(X_train, y_train, epsilon=EPSILON, batch_size=BATCH_SIZE, nb_epochs=NB_EPOCHS_DNN, verbose=True)\n",
    "\n",
    "print(\"-- No pretraining model --\")\n",
    "dnn_no_pretraining = DNN(config=CONFIG)\n",
    "dnn_no_pretraining, loss = dnn_no_pretraining.retropropagation(X_train, y_train, epsilon=EPSILON, batch_size=BATCH_SIZE, nb_epochs=NB_EPOCHS_DNN, verbose=True)\n",
    "\n",
    "error_rate_pretraining_train = dnn_pretraining.test_dnn(X_train, y_train, verbose=False)\n",
    "error_rate_pretraining_test = dnn_pretraining.test_dnn(X_test, y_test, verbose=False)\n",
    "\n",
    "error_rate_no_pretraining_train = dnn_no_pretraining.test_dnn(X_train, y_train, verbose=False)\n",
    "error_rate_no_pretraining_test = dnn_no_pretraining.test_dnn(X_test, y_test, verbose=False)"
   ]
  },
  {
   "cell_type": "code",
   "execution_count": 7,
   "metadata": {},
   "outputs": [
    {
     "name": "stdout",
     "output_type": "stream",
     "text": [
      "Pretraining model:\n",
      " Error rate for training set: 3.30%\n",
      " Error rate for test set: 4.52%\n",
      "No pretraining model:\n",
      " Error rate for training set: 1.95%\n",
      " Error rate for test set: 3.99%\n"
     ]
    }
   ],
   "source": [
    "print(\"Pretraining model:\")\n",
    "print(f\" Error rate for training set: {error_rate_pretraining_train:.2f}%\")\n",
    "print(f\" Error rate for test set: {error_rate_pretraining_test:.2f}%\")\n",
    "\n",
    "print(\"No pretraining model:\")\n",
    "print(f\" Error rate for training set: {error_rate_no_pretraining_train:.2f}%\")\n",
    "print(f\" Error rate for test set: {error_rate_no_pretraining_test:.2f}%\")"
   ]
  },
  {
   "cell_type": "markdown",
   "metadata": {},
   "source": [
    "### Number of layers"
   ]
  },
  {
   "cell_type": "code",
   "execution_count": 8,
   "metadata": {},
   "outputs": [
    {
     "name": "stdout",
     "output_type": "stream",
     "text": [
      "Configuration: [784, 10]\n",
      "-- Pretraining model --\n",
      "-- No pretraining model --\n",
      "Configuration: [784, 200, 10]\n",
      "-- Pretraining model --\n",
      "-- No pretraining model --\n",
      "Configuration: [784, 200, 200, 10]\n",
      "-- Pretraining model --\n",
      "-- No pretraining model --\n",
      "Configuration: [784, 200, 200, 200, 10]\n",
      "-- Pretraining model --\n",
      "-- No pretraining model --\n",
      "Configuration: [784, 200, 200, 200, 200, 10]\n",
      "-- Pretraining model --\n",
      "-- No pretraining model --\n",
      "Configuration: [784, 200, 200, 200, 200, 200, 10]\n",
      "-- Pretraining model --\n",
      "-- No pretraining model --\n"
     ]
    },
    {
     "data": {
      "image/png": "[encoded data removed]",
      "text/plain": [
       "<Figure size 500x300 with 1 Axes>"
      ]
     },
     "metadata": {},
     "output_type": "display_data"
    }
   ],
   "source": [
    "configurations = [\n",
    "    [784, 10],\n",
    "    [784, 200, 10],\n",
    "    [784, 200, 200, 10],\n",
    "    [784, 200, 200, 200, 10],\n",
    "    [784, 200, 200, 200, 200, 10],\n",
    "    [784, 200, 200, 200, 200, 200, 10],\n",
    "]\n",
    "error_rate_no_pretraining = []\n",
    "error_rate_pretraining = []\n",
    "for config in configurations:\n",
    "    print(f\"Configuration: {config}\")\n",
    "    print(\"-- Pretraining model --\")\n",
    "    dnn_pretraining = DNN(config=config)\n",
    "    dnn_pretraining, losses = dnn_pretraining.pretrain_DNN(X_train, epsilon=EPSILON, batch_size=BATCH_SIZE, nb_epochs=NB_EPOCHS_RBM, verbose=False)\n",
    "    dnn_pretraining, loss = dnn_pretraining.retropropagation(X_train, y_train, epsilon=EPSILON, batch_size=BATCH_SIZE, nb_epochs=NB_EPOCHS_DNN, verbose=False)\n",
    "    error_rate_pretraining.append(dnn_pretraining.test_dnn(X_test, y_test, verbose=False))\n",
    "\n",
    "    print(\"-- No pretraining model --\")\n",
    "    dnn_no_pretraining = DNN(config=config)\n",
    "    dnn_no_pretraining, loss = dnn_no_pretraining.retropropagation(X_train, y_train, epsilon=EPSILON, batch_size=BATCH_SIZE, nb_epochs=NB_EPOCHS_DNN, verbose=False)\n",
    "    error_rate_no_pretraining.append(dnn_no_pretraining.test_dnn(X_test, y_test, verbose=False))\n",
    "\n",
    "plt.figure(figsize=(5, 3))\n",
    "plt.plot([2, 3, 4, 5, 6, 7], error_rate_no_pretraining, label='No pretraining')\n",
    "plt.plot([2, 3, 4, 5, 6, 7], error_rate_pretraining, label='Pretraining')\n",
    "plt.title(\"Evolution of the error rate for different number of layers\")\n",
    "plt.xlabel('Number of layers')\n",
    "plt.ylabel(\"Error rate on the test set (%)\")\n",
    "plt.legend()\n",
    "plt.show()"
   ]
  },
  {
   "cell_type": "markdown",
   "metadata": {},
   "source": [
    "### Number of neurons"
   ]
  },
  {
   "cell_type": "code",
   "execution_count": 13,
   "metadata": {},
   "outputs": [
    {
     "name": "stdout",
     "output_type": "stream",
     "text": [
      "Configuration: [784, 100, 100, 10]\n",
      "-- Pretraining model --\n",
      "-- No pretraining model --\n",
      "Configuration: [784, 200, 200, 10]\n",
      "-- Pretraining model --\n",
      "-- No pretraining model --\n",
      "Configuration: [784, 300, 300, 10]\n",
      "-- Pretraining model --\n"
     ]
    }
   ],
   "source": [
    "configurations = [\n",
    "    [784, 100, 100, 10],\n",
    "    [784, 200, 200, 10],\n",
    "    [784, 300, 300, 10],\n",
    "    [784, 500, 500, 10],\n",
    "    [784, 700, 700, 10]\n",
    "]\n",
    "error_rate_no_pretraining = []\n",
    "error_rate_pretraining = []\n",
    "for config in configurations:\n",
    "    print(f\"Configuration: {config}\")\n",
    "    print(\"-- Pretraining model --\")\n",
    "    dnn_pretraining = DNN(config=config)\n",
    "    dnn_pretraining, losses = dnn_pretraining.pretrain_DNN(X_train, epsilon=EPSILON, batch_size=BATCH_SIZE, nb_epochs=NB_EPOCHS_RBM, verbose=False)\n",
    "    dnn_pretraining, loss = dnn_pretraining.retropropagation(X_train, y_train, epsilon=EPSILON, batch_size=BATCH_SIZE, nb_epochs=NB_EPOCHS_DNN, verbose=False)\n",
    "    error_rate_pretraining.append(dnn_pretraining.test_dnn(X_test, y_test, verbose=False))\n",
    "\n",
    "    print(\"-- No pretraining model --\")\n",
    "    dnn_no_pretraining = DNN(config=config)\n",
    "    dnn_no_pretraining, loss = dnn_no_pretraining.retropropagation(X_train, y_train, epsilon=EPSILON, batch_size=BATCH_SIZE, nb_epochs=NB_EPOCHS_DNN, verbose=False)\n",
    "    error_rate_no_pretraining.append(dnn_no_pretraining.test_dnn(X_test, y_test, verbose=False))\n",
    "\n",
    "plt.figure(figsize=(5, 3))\n",
    "plt.plot([100, 200, 300, 500, 700], error_rate_no_pretraining, label='No pretraining')\n",
    "plt.plot([100, 200, 300, 500, 700], error_rate_pretraining, label='Pretraining')\n",
    "plt.title(\"Evolution of the error rate for different number of neurons\")\n",
    "plt.xlabel('Number of neurons')\n",
    "plt.ylabel(\"Error rate\")\n",
    "plt.show()"
   ]
  },
  {
   "cell_type": "markdown",
   "metadata": {},
   "source": [
    "### Number of training data"
   ]
  },
  {
   "cell_type": "code",
   "execution_count": null,
   "metadata": {},
   "outputs": [],
   "source": [
    "nb_data = [1000, 3000, 7000, 10000 30000, 60000]\n",
    "CONFIG = [784, 200, 200, 10]\n",
    "error_rate_no_pretraining = []\n",
    "error_rate_pretraining = []\n",
    "for nb in nb_data:\n",
    "    print(f\"Number of data: {nb}\")\n",
    "    print(\"-- Pretraining model --\")\n",
    "    X_train_sub, y_train_sub = subsample_data_set(X_train, y_train, nb)\n",
    "    dnn_pretraining = DNN(config=CONFIG)\n",
    "    dnn_pretraining, losses = dnn_pretraining.pretrain_DNN(X_train_sub, epsilon=EPSILON, batch_size=BATCH_SIZE, nb_epochs=NB_EPOCHS_RBM, verbose=False)\n",
    "    dnn_pretraining, loss = dnn_pretraining.retropropagation(X_train_sub, y_train_sub, epsilon=EPSILON, batch_size=BATCH_SIZE, nb_epochs=NB_EPOCHS_DNN, verbose=False)\n",
    "    error_rate_pretraining.append(dnn_pretraining.test_dnn(X_test, y_test, verbose=False))\n",
    "\n",
    "    print(\"-- No pretraining model --\")\n",
    "    dnn_no_pretraining = DNN(config=CONFIG)\n",
    "    dnn_no_pretraining, loss = dnn_no_pretraining.retropropagation(X_train_sub, y_train_sub, epsilon=EPSILON, batch_size=BATCH_SIZE, nb_epochs=NB_EPOCHS_DNN, verbose=False)\n",
    "    error_rate_no_pretraining.append(dnn_no_pretraining.test_dnn(X_test, y_test, verbose=False))\n",
    "\n",
    "plt.figure(figsize=(5, 3))\n",
    "plt.plot(nb_data, error_rate_no_pretraining, label='No pretraining')\n",
    "plt.plot(nb_data, error_rate_pretraining, label='Pretraining')\n",
    "plt.title(\"Evolution of the error rate for different len of training set\")\n",
    "plt.xlabel('Len of training set')\n",
    "plt.ylabel(\"Error rate\")\n",
    "plt.show()"
   ]
  },
  {
   "cell_type": "markdown",
   "metadata": {},
   "source": [
    "### Conclusion"
   ]
  },
  {
   "cell_type": "code",
   "execution_count": null,
   "metadata": {},
   "outputs": [],
   "source": [
    "# Best parameters\n",
    "CONFIG = [784, 100, 10]\n",
    "BATCH_SIZE = 32\n",
    "EPSILON = 0.1\n",
    "NB_EPOCHS_RBM = 100\n",
    "NB_EPOCHS_DNN = 200\n",
    "NB_DATA_TRAINING = None\n",
    "\n",
    "X_train_sub, y_train_sub = subsample_data_set(X_train, y_train, NB_DATA_TRAINING)\n",
    "dnn = DNN(config=CONFIG)\n",
    "dnn, losses = dnn.pretrain_DNN(X_train, epsilon=EPSILON, batch_size=BATCH_SIZE, nb_epochs=NB_EPOCHS_RBM, verbose=True)\n",
    "dnn, loss = dnn.retropropagation(X_train, y_train, epsilon=EPSILON, batch_size=BATCH_SIZE, nb_epochs=NB_EPOCHS_DNN, verbose=True)\n",
    "error_rate = dnn.test_dnn(X_test, y_test, verbose=True)"
   ]
  },
  {
   "cell_type": "markdown",
   "metadata": {},
   "source": []
  }
 ],
 "metadata": {
  "kernelspec": {
   "display_name": "Python 3.10.9",
   "language": "python",
   "name": "python3"
  },
  "language_info": {
   "codemirror_mode": {
    "name": "ipython",
    "version": 3
   },
   "file_extension": ".py",
   "mimetype": "text/x-python",
   "name": "python",
   "nbconvert_exporter": "python",
   "pygments_lexer": "ipython3",
   "version": "3.10.9"
  },
  "orig_nbformat": 4,
  "vscode": {
   "interpreter": {
    "hash": "5893de6937453a795d45c7d611a94fe5dba0c9db6e4355aad1e96f1b384ec7f2"
   }
  }
 },
 "nbformat": 4,
 "nbformat_minor": 2
}
