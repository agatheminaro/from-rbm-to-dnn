{
 "cells": [
  {
   "cell_type": "markdown",
   "metadata": {},
   "source": [
    "# MNIST Study\n",
    "## Get the libraries"
   ]
  },
  {
   "cell_type": "code",
   "execution_count": 1,
   "metadata": {},
   "outputs": [],
   "source": [
    "!pip install mlxtend --quiet"
   ]
  },
  {
   "cell_type": "code",
   "execution_count": 2,
   "metadata": {},
   "outputs": [
    {
     "name": "stderr",
     "output_type": "stream",
     "text": [
      "\n",
      "Bad key text.latex.preview in file /opt/anaconda3/lib/python3.9/site-packages/matplotlib/mpl-data/stylelib/_classic_test.mplstyle, line 123 ('text.latex.preview : False')\n",
      "You probably need to get an updated matplotlibrc file from\n",
      "https://github.com/matplotlib/matplotlib/blob/v3.5.1/matplotlibrc.template\n",
      "or from the matplotlib source distribution\n",
      "\n",
      "Bad key mathtext.fallback_to_cm in file /opt/anaconda3/lib/python3.9/site-packages/matplotlib/mpl-data/stylelib/_classic_test.mplstyle, line 155 ('mathtext.fallback_to_cm : True  # When True, use symbols from the Computer Modern')\n",
      "You probably need to get an updated matplotlibrc file from\n",
      "https://github.com/matplotlib/matplotlib/blob/v3.5.1/matplotlibrc.template\n",
      "or from the matplotlib source distribution\n",
      "\n",
      "Bad key savefig.jpeg_quality in file /opt/anaconda3/lib/python3.9/site-packages/matplotlib/mpl-data/stylelib/_classic_test.mplstyle, line 418 ('savefig.jpeg_quality: 95       # when a jpeg is saved, the default quality parameter.')\n",
      "You probably need to get an updated matplotlibrc file from\n",
      "https://github.com/matplotlib/matplotlib/blob/v3.5.1/matplotlibrc.template\n",
      "or from the matplotlib source distribution\n",
      "\n",
      "Bad key keymap.all_axes in file /opt/anaconda3/lib/python3.9/site-packages/matplotlib/mpl-data/stylelib/_classic_test.mplstyle, line 466 ('keymap.all_axes : a                 # enable all axes')\n",
      "You probably need to get an updated matplotlibrc file from\n",
      "https://github.com/matplotlib/matplotlib/blob/v3.5.1/matplotlibrc.template\n",
      "or from the matplotlib source distribution\n",
      "\n",
      "Bad key animation.avconv_path in file /opt/anaconda3/lib/python3.9/site-packages/matplotlib/mpl-data/stylelib/_classic_test.mplstyle, line 477 ('animation.avconv_path: avconv     # Path to avconv binary. Without full path')\n",
      "You probably need to get an updated matplotlibrc file from\n",
      "https://github.com/matplotlib/matplotlib/blob/v3.5.1/matplotlibrc.template\n",
      "or from the matplotlib source distribution\n",
      "\n",
      "Bad key animation.avconv_args in file /opt/anaconda3/lib/python3.9/site-packages/matplotlib/mpl-data/stylelib/_classic_test.mplstyle, line 479 ('animation.avconv_args:            # Additional arguments to pass to avconv')\n",
      "You probably need to get an updated matplotlibrc file from\n",
      "https://github.com/matplotlib/matplotlib/blob/v3.5.1/matplotlibrc.template\n",
      "or from the matplotlib source distribution\n"
     ]
    }
   ],
   "source": [
    "from principal_DNN_MNIST import DNN\n",
    "from mlxtend.data import loadlocal_mnist"
   ]
  },
  {
   "cell_type": "markdown",
   "metadata": {},
   "source": [
    "## Get the data and preprocess it"
   ]
  },
  {
   "cell_type": "code",
   "execution_count": 3,
   "metadata": {},
   "outputs": [],
   "source": [
    "X_train, y_train = loadlocal_mnist(images_path='/Users/solenedebuysere/Desktop/deep2-git/data/train-images',\n",
    "                                   labels_path='/Users/solenedebuysere/Desktop/deep2-git/data/train-labels')\n",
    "X_test, y_test = loadlocal_mnist(images_path='/Users/solenedebuysere/Desktop/deep2-git/data/t10k-images',\n",
    "                                 labels_path='/Users/solenedebuysere/Desktop/deep2-git/data/t10k-labels')\n",
    "\n",
    "# Binarisation of our data\n",
    "X_train = (X_train >= 127).astype(int)\n",
    "X_test = (X_test >= 127).astype(int)"
   ]
  },
  {
   "cell_type": "markdown",
   "metadata": {},
   "source": [
    "## Creation of the DNN"
   ]
  },
  {
   "cell_type": "code",
   "execution_count": 4,
   "metadata": {},
   "outputs": [],
   "source": [
    "CONFIG = [784, 100, 50, 10]\n",
    "BATCH_SIZE = 320\n",
    "EPSILON = 0.1\n",
    "NB_EPOCHS_RBM = 100\n",
    "NB_EPOCHS_DNN = 200"
   ]
  },
  {
   "cell_type": "code",
   "execution_count": 5,
   "metadata": {},
   "outputs": [
    {
     "ename": "TypeError",
     "evalue": "exp() got an unexpected keyword argument 'keepdims'",
     "output_type": "error",
     "traceback": [
      "\u001b[0;31m---------------------------------------------------------------------------\u001b[0m",
      "\u001b[0;31mTypeError\u001b[0m                                 Traceback (most recent call last)",
      "Cell \u001b[0;32mIn[5], line 8\u001b[0m\n\u001b[1;32m      5\u001b[0m dnn\u001b[39m.\u001b[39mpretrain_DNN(X_train, epsilon\u001b[39m=\u001b[39mEPSILON, batch_size\u001b[39m=\u001b[39mBATCH_SIZE, nb_epochs\u001b[39m=\u001b[39mNB_EPOCHS_RBM)\n\u001b[1;32m      7\u001b[0m \u001b[39m# Train the model\u001b[39;00m\n\u001b[0;32m----> 8\u001b[0m loss \u001b[39m=\u001b[39m dnn\u001b[39m.\u001b[39;49mretropropagation(X_train, y_train, epsilon\u001b[39m=\u001b[39;49mEPSILON, batch_size\u001b[39m=\u001b[39;49mBATCH_SIZE, nb_epochs\u001b[39m=\u001b[39;49mNB_EPOCHS_DNN)\n\u001b[1;32m     10\u001b[0m \u001b[39m# Test the model\u001b[39;00m\n\u001b[1;32m     11\u001b[0m dnn\u001b[39m.\u001b[39mtest_dnn(X_test, y_test)\n",
      "File \u001b[0;32m~/Desktop/deep2-git/from-rbm-to-dnn/principal_DNN_MNIST.py:42\u001b[0m, in \u001b[0;36mDNN.retropropagation\u001b[0;34m(self, X, y, epsilon, batch_size, nb_epochs)\u001b[0m\n\u001b[1;32m     40\u001b[0m y_batch \u001b[39m=\u001b[39m y_copy[batch : \u001b[39mmin\u001b[39m(batch \u001b[39m+\u001b[39m batch_size, X_copy\u001b[39m.\u001b[39mshape[\u001b[39m0\u001b[39m])]\n\u001b[1;32m     41\u001b[0m true_batch_size \u001b[39m=\u001b[39m X_batch\u001b[39m.\u001b[39mshape[\u001b[39m0\u001b[39m]\n\u001b[0;32m---> 42\u001b[0m sortie_list \u001b[39m=\u001b[39m \u001b[39mself\u001b[39;49m\u001b[39m.\u001b[39;49mentree_sortie_reseau(X_batch)\n\u001b[1;32m     43\u001b[0m last_layer \u001b[39m=\u001b[39m \u001b[39mself\u001b[39m\u001b[39m.\u001b[39mRBM_list[\u001b[39m-\u001b[39m\u001b[39m1\u001b[39m]\n\u001b[1;32m     44\u001b[0m delta_sortie \u001b[39m=\u001b[39m sortie_list[\u001b[39m-\u001b[39m\u001b[39m1\u001b[39m] \u001b[39m-\u001b[39m y_batch\n",
      "File \u001b[0;32m~/Desktop/deep2-git/from-rbm-to-dnn/principal_DNN_MNIST.py:29\u001b[0m, in \u001b[0;36mDNN.entree_sortie_reseau\u001b[0;34m(self, X)\u001b[0m\n\u001b[1;32m     27\u001b[0m     sortie \u001b[39m=\u001b[39m rbm\u001b[39m.\u001b[39mentree_sortie_RBM(sortie_list[\u001b[39m-\u001b[39m\u001b[39m1\u001b[39m])\n\u001b[1;32m     28\u001b[0m     sortie_list\u001b[39m.\u001b[39mappend(sortie)\n\u001b[0;32m---> 29\u001b[0m sortie_list\u001b[39m.\u001b[39mappend(\u001b[39mself\u001b[39;49m\u001b[39m.\u001b[39;49mcalcul_softmax(\u001b[39mself\u001b[39;49m\u001b[39m.\u001b[39;49mdbn\u001b[39m.\u001b[39;49mRBM_list[\u001b[39m-\u001b[39;49m\u001b[39m1\u001b[39;49m], sortie_list[\u001b[39m-\u001b[39;49m\u001b[39m1\u001b[39;49m]))\n\u001b[1;32m     30\u001b[0m \u001b[39mreturn\u001b[39;00m sortie_list\n",
      "File \u001b[0;32m~/Desktop/deep2-git/from-rbm-to-dnn/principal_DNN_MNIST.py:15\u001b[0m, in \u001b[0;36mDNN.calcul_softmax\u001b[0;34m(self, rbm, X)\u001b[0m\n\u001b[1;32m     13\u001b[0m \u001b[39mdef\u001b[39;00m \u001b[39mcalcul_softmax\u001b[39m(\u001b[39mself\u001b[39m, rbm, X):\n\u001b[1;32m     14\u001b[0m     Z \u001b[39m=\u001b[39m X \u001b[39m@\u001b[39m rbm\u001b[39m.\u001b[39mRBM_W \u001b[39m+\u001b[39m rbm\u001b[39m.\u001b[39mRBM_b\n\u001b[0;32m---> 15\u001b[0m     e_x \u001b[39m=\u001b[39m np\u001b[39m.\u001b[39;49mexp(Z\u001b[39m-\u001b[39;49mnp\u001b[39m.\u001b[39;49mmax(Z), keepdims\u001b[39m=\u001b[39;49m\u001b[39mTrue\u001b[39;49;00m)\n\u001b[1;32m     16\u001b[0m     \u001b[39mreturn\u001b[39;00m e_x \u001b[39m/\u001b[39m np\u001b[39m.\u001b[39msum(e_x, axis\u001b[39m=\u001b[39m\u001b[39m1\u001b[39m, keepdims\u001b[39m=\u001b[39m\u001b[39mTrue\u001b[39;00m)\n",
      "\u001b[0;31mTypeError\u001b[0m: exp() got an unexpected keyword argument 'keepdims'"
     ]
    }
   ],
   "source": [
    "# Create the model\n",
    "dnn = DNN(config=[784, 100, 50, 10])\n",
    "\n",
    "# Pretrain the model\n",
    "dnn.pretrain_DNN(X_train, epsilon=EPSILON, batch_size=BATCH_SIZE, nb_epochs=NB_EPOCHS_RBM)\n",
    "\n",
    "# Train the model\n",
    "loss = dnn.retropropagation(X_train, y_train, epsilon=EPSILON, batch_size=BATCH_SIZE, nb_epochs=NB_EPOCHS_DNN)\n",
    "\n",
    "# Test the model\n",
    "dnn.test_dnn(X_test, y_test)"
   ]
  },
  {
   "cell_type": "markdown",
   "metadata": {},
   "source": [
    "## Analysis"
   ]
  },
  {
   "cell_type": "code",
   "execution_count": null,
   "metadata": {},
   "outputs": [],
   "source": []
  },
  {
   "cell_type": "code",
   "execution_count": null,
   "metadata": {},
   "outputs": [],
   "source": []
  },
  {
   "cell_type": "code",
   "execution_count": null,
   "metadata": {},
   "outputs": [],
   "source": []
  },
  {
   "cell_type": "code",
   "execution_count": null,
   "metadata": {},
   "outputs": [],
   "source": []
  },
  {
   "cell_type": "markdown",
   "metadata": {},
   "source": []
  }
 ],
 "metadata": {
  "kernelspec": {
   "display_name": "Python 3.9.12 ('base')",
   "language": "python",
   "name": "python3"
  },
  "language_info": {
   "codemirror_mode": {
    "name": "ipython",
    "version": 3
   },
   "file_extension": ".py",
   "mimetype": "text/x-python",
   "name": "python",
   "nbconvert_exporter": "python",
   "pygments_lexer": "ipython3",
   "version": "3.9.12"
  },
  "orig_nbformat": 4,
  "vscode": {
   "interpreter": {
    "hash": "40d3a090f54c6569ab1632332b64b2c03c39dcf918b08424e98f38b5ae0af88f"
   }
  }
 },
 "nbformat": 4,
 "nbformat_minor": 2
}
